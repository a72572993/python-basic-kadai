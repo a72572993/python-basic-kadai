{
  "nbformat": 4,
  "nbformat_minor": 0,
  "metadata": {
    "colab": {
      "provenance": [],
      "authorship_tag": "ABX9TyNIbxRHQ7gj32KTsjWoUUzd",
      "include_colab_link": true
    },
    "kernelspec": {
      "name": "python3",
      "display_name": "Python 3"
    },
    "language_info": {
      "name": "python"
    }
  },
  "cells": [
    {
      "cell_type": "markdown",
      "metadata": {
        "id": "view-in-github",
        "colab_type": "text"
      },
      "source": [
        "<a href=\"https://colab.research.google.com/github/a72572993/python-basic-kadai/blob/main/kadai_008.ipynb\" target=\"_parent\"><img src=\"https://colab.research.google.com/assets/colab-badge.svg\" alt=\"Open In Colab\"/></a>"
      ]
    },
    {
      "cell_type": "code",
      "execution_count": 117,
      "metadata": {
        "colab": {
          "base_uri": "https://localhost:8080/"
        },
        "id": "Nqm7km6RvFYC",
        "outputId": "cd972bf8-0c6e-40ab-9918-675fc3634740"
      },
      "outputs": [
        {
          "output_type": "stream",
          "name": "stdout",
          "text": [
            "15\n",
            "FizzBuzz\n"
          ]
        }
      ],
      "source": [
        "import random\n",
        "var = random.randint(1,15)\n",
        "print(var)\n",
        "\n",
        "if  var % 3 == 0 and var % 5 == 0:\n",
        "    print(\"FizzBuzz\")\n",
        "\n",
        "elif var % 3 == 0:\n",
        "    print(\"Fizz\")\n",
        "\n",
        "elif var % 5 == 0:\n",
        "    print(\"Buzz\")\n",
        "\n",
        "else:\n",
        "    print(var)\n"
      ]
    }
  ]
}