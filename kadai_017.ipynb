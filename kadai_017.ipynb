{
  "nbformat": 4,
  "nbformat_minor": 0,
  "metadata": {
    "colab": {
      "provenance": [],
      "authorship_tag": "ABX9TyMVifbiV1UdzwfiEBvpcrwC",
      "include_colab_link": true
    },
    "kernelspec": {
      "name": "python3",
      "display_name": "Python 3"
    },
    "language_info": {
      "name": "python"
    }
  },
  "cells": [
    {
      "cell_type": "markdown",
      "metadata": {
        "id": "view-in-github",
        "colab_type": "text"
      },
      "source": [
        "<a href=\"https://colab.research.google.com/github/a72572993/python-basic-kadai/blob/main/kadai_017.ipynb\" target=\"_parent\"><img src=\"https://colab.research.google.com/assets/colab-badge.svg\" alt=\"Open In Colab\"/></a>"
      ]
    },
    {
      "cell_type": "code",
      "execution_count": 9,
      "metadata": {
        "colab": {
          "base_uri": "https://localhost:8080/"
        },
        "id": "bWtU7kBB6XsO",
        "outputId": "1016c464-6987-4707-9704-e53d20a071bf"
      },
      "outputs": [
        {
          "output_type": "stream",
          "name": "stdout",
          "text": [
            "中学生 は大人ではありません\n",
            "高校生 は大人ではありません\n",
            "大学生 は大人です\n",
            "中年 は大人です\n",
            "高齢者 は大人です\n"
          ]
        }
      ],
      "source": [
        "\n",
        "#Humanクラスを作成 「クラス」「関数」\n",
        "class Human:\n",
        "    def __init__(self, name, age):\n",
        "        self.name = name\n",
        "        self.age = age\n",
        "\n",
        "#メソッドを定義する 「条件分岐」\n",
        "    def check_adult(self):\n",
        "        if self.age >= 20:\n",
        "            print(f\"{self.name} は大人です\")\n",
        "        else:\n",
        "            print(f\"{self.name} は大人ではありません\")\n",
        "\n",
        "\n",
        "# Humanクラスのインスタンスを生成してリストに追加「リスト・ディクショナリ」\n",
        "humans =  [Human(\"中学生\", 14),  Human(\"高校生\", 17),  Human(\"大学生\", 20),  Human(\"中年\", 40),  Human(\"高齢者\", 60)]\n",
        "\n",
        "#属性にアクセスし、値を出力する 「繰り返し処理」\n",
        "for human in humans:\n",
        "    human.check_adult()"
      ]
    }
  ]
}