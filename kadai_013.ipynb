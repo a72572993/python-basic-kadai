{
  "nbformat": 4,
  "nbformat_minor": 0,
  "metadata": {
    "colab": {
      "provenance": [],
      "authorship_tag": "ABX9TyOrvd4jCOs3FVu/lf0fivjz",
      "include_colab_link": true
    },
    "kernelspec": {
      "name": "python3",
      "display_name": "Python 3"
    },
    "language_info": {
      "name": "python"
    }
  },
  "cells": [
    {
      "cell_type": "markdown",
      "metadata": {
        "id": "view-in-github",
        "colab_type": "text"
      },
      "source": [
        "<a href=\"https://colab.research.google.com/github/a72572993/python-basic-kadai/blob/main/kadai_013.ipynb\" target=\"_parent\"><img src=\"https://colab.research.google.com/assets/colab-badge.svg\" alt=\"Open In Colab\"/></a>"
      ]
    },
    {
      "cell_type": "code",
      "execution_count": 48,
      "metadata": {
        "colab": {
          "base_uri": "https://localhost:8080/"
        },
        "id": "6fMf-bqDiikc",
        "outputId": "a2ca334d-ee7d-433b-e0ba-91ad5981ff70"
      },
      "outputs": [
        {
          "output_type": "execute_result",
          "data": {
            "text/plain": [
              "1320.0"
            ]
          },
          "metadata": {},
          "execution_count": 48
        }
      ],
      "source": [
        "#1\n",
        "def calculate_total(price, tax):\n",
        "\n",
        "    price = 1200\n",
        "    tax  = 0.1\n",
        "    total = price + (price * tax)\n",
        "    return total\n",
        "\n",
        "    print(f\"{total}円\")\n",
        "\n",
        "calculate_total(1200, 1200 * 0.1)"
      ]
    }
  ]
}