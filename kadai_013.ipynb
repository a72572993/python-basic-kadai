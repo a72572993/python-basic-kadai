{
  "nbformat": 4,
  "nbformat_minor": 0,
  "metadata": {
    "colab": {
      "provenance": [],
      "authorship_tag": "ABX9TyPyfG7wlhCLyZuUxkNhrX2N",
      "include_colab_link": true
    },
    "kernelspec": {
      "name": "python3",
      "display_name": "Python 3"
    },
    "language_info": {
      "name": "python"
    }
  },
  "cells": [
    {
      "cell_type": "markdown",
      "metadata": {
        "id": "view-in-github",
        "colab_type": "text"
      },
      "source": [
        "<a href=\"https://colab.research.google.com/github/a72572993/python-basic-kadai/blob/main/kadai_013.ipynb\" target=\"_parent\"><img src=\"https://colab.research.google.com/assets/colab-badge.svg\" alt=\"Open In Colab\"/></a>"
      ]
    },
    {
      "cell_type": "code",
      "source": [
        "#3/18レッスンで添削いただいたコード\n",
        "#合格をもらったコードでは、新規で実行するとエラーが出る。Totalの設定を別のコードで記憶されていた？ようで結果を出せていた様子\n",
        "#本来であれば、スコープの関係でエラーとなる\n",
        "\n",
        "def calculate_total(price, tax):\n",
        "\n",
        "    total = price + (price * tax)\n",
        "    return total\n",
        "\n",
        "calculate_total(1200, 0.1)\n",
        "total = calculate_total(1200, 0.1) #追加コード\n",
        "print(f\"{total}円\")"
      ],
      "metadata": {
        "colab": {
          "base_uri": "https://localhost:8080/"
        },
        "id": "6_tJPY-YdsQB",
        "outputId": "73024954-f7ac-443c-bc88-4b14913f0f4a"
      },
      "execution_count": 4,
      "outputs": [
        {
          "output_type": "stream",
          "name": "stdout",
          "text": [
            "1320.0円\n"
          ]
        }
      ]
    },
    {
      "cell_type": "code",
      "execution_count": 3,
      "metadata": {
        "colab": {
          "base_uri": "https://localhost:8080/"
        },
        "id": "6fMf-bqDiikc",
        "outputId": "89d091a6-4ce2-47f3-d614-9bf1915a6300"
      },
      "outputs": [
        {
          "output_type": "stream",
          "name": "stdout",
          "text": [
            "1320.0円\n"
          ]
        }
      ],
      "source": [
        "#合格をいただいたコード\n",
        "def calculate_total(price, tax):\n",
        "\n",
        "    total = price + (price * tax)\n",
        "    return total\n",
        "\n",
        "calculate_total(1200, 0.1)\n",
        "print(f\"{total}円\")"
      ]
    },
    {
      "cell_type": "code",
      "source": [
        "#3回目提出>不合格: printの通り表示されなかったため、returnをコメントアウトしたが、returnを使用、printを関数の外に出すのが正解\n",
        "def calculate_total(price, tax):\n",
        "\n",
        "    total = price + (price * tax)\n",
        "    #return total\n",
        "    print(f\"{total}円\")\n",
        "\n",
        "calculate_total(1200, 0.1)\n"
      ],
      "metadata": {
        "colab": {
          "base_uri": "https://localhost:8080/"
        },
        "id": "llKI45vJgQxo",
        "outputId": "55ed94e9-fb52-4d2b-eb28-a5b1340aa78c"
      },
      "execution_count": null,
      "outputs": [
        {
          "output_type": "stream",
          "name": "stdout",
          "text": [
            "1320.0円\n"
          ]
        }
      ]
    },
    {
      "cell_type": "code",
      "source": [
        "#2回目提出>不合格：0.1を引数に設定しない、また、呼び出し時にも第2引数を設定する\n",
        "def calculate_total(price, tax=0.1):\n",
        "\n",
        "    total = price + (price * tax)\n",
        "    print(f\"{total}円\")\n",
        "\n",
        "calculate_total(1200)"
      ],
      "metadata": {
        "colab": {
          "base_uri": "https://localhost:8080/"
        },
        "id": "l1KTWM3QhJWs",
        "outputId": "085023e8-5bf7-4e53-e929-025619ea8ff0"
      },
      "execution_count": null,
      "outputs": [
        {
          "output_type": "stream",
          "name": "stdout",
          "text": [
            "1320.0円\n"
          ]
        }
      ]
    },
    {
      "cell_type": "code",
      "source": [
        "#1回目提出>不合格：引数を2つ使っていない\n",
        "def calculate_total(price):\n",
        "\n",
        "    total = price + (price * 0.1)\n",
        "    print(f\"{total}円\")\n",
        "\n",
        "calculate_total(1200)\n"
      ],
      "metadata": {
        "colab": {
          "base_uri": "https://localhost:8080/"
        },
        "id": "fRsEwKFXgeft",
        "outputId": "29b9f0dd-d443-4aec-b0f9-d5164d53d107"
      },
      "execution_count": null,
      "outputs": [
        {
          "output_type": "stream",
          "name": "stdout",
          "text": [
            "1320.0円\n"
          ]
        }
      ]
    },
    {
      "cell_type": "markdown",
      "source": [
        "課題内容\n",
        "商品を購入して、消費税を加えた計算結果を返す関数を記述してください。\n",
        "第1引数に商品の金額、第2引数に消費税（10%）を設定できるようにしてください。"
      ],
      "metadata": {
        "id": "4QgvWh3vgmsc"
      }
    }
  ]
}