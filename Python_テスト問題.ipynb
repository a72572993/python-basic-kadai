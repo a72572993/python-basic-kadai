{
  "nbformat": 4,
  "nbformat_minor": 0,
  "metadata": {
    "colab": {
      "provenance": [],
      "authorship_tag": "ABX9TyNFVABMpcs6tkkANIm54ySe",
      "include_colab_link": true
    },
    "kernelspec": {
      "name": "python3",
      "display_name": "Python 3"
    },
    "language_info": {
      "name": "python"
    }
  },
  "cells": [
    {
      "cell_type": "markdown",
      "metadata": {
        "id": "view-in-github",
        "colab_type": "text"
      },
      "source": [
        "<a href=\"https://colab.research.google.com/github/a72572993/python-basic-kadai/blob/main/Python_%E3%83%86%E3%82%B9%E3%83%88%E5%95%8F%E9%A1%8C.ipynb\" target=\"_parent\"><img src=\"https://colab.research.google.com/assets/colab-badge.svg\" alt=\"Open In Colab\"/></a>"
      ]
    },
    {
      "cell_type": "code",
      "execution_count": 1,
      "metadata": {
        "colab": {
          "base_uri": "https://localhost:8080/"
        },
        "id": "4b0iB7XICAvn",
        "outputId": "62195c2d-a8fb-4382-b962-ea43ac05dc3e"
      },
      "outputs": [
        {
          "output_type": "stream",
          "name": "stdout",
          "text": [
            "<class 'int'>\n",
            "<class 'float'>\n",
            "<class 'list'>\n"
          ]
        }
      ],
      "source": [
        "#test_1問目 次の変数の型を表示するプログラムを作成してください\n",
        "val1 = 1\n",
        "val2 = 1.2\n",
        "val3 = [\"item1\", \"item2\", \"item3\"]\n",
        "\n",
        "print(type(val1))\n",
        "print(type(val2))\n",
        "print(type(val3))"
      ]
    },
    {
      "cell_type": "markdown",
      "source": [
        "test_2問目「==」と「is」の違いを説明してください。\n",
        "\n",
        "「==」は等価比較である。\n",
        "2つのオブジェクトの値が等しければTrue、等しくなければFalseを返す。\n",
        "「is」はオブジェクトの同一性比較である。\n",
        "2つのオブジェクトが同一であればTrue、同一でなければFalseを返す。\n"
      ],
      "metadata": {
        "id": "qsJnT3LXEY8b"
      }
    },
    {
      "cell_type": "code",
      "source": [
        "#test_3問目 次のif文と同じ実行結果になるように、三項演算子を使って書いてください。\n",
        "\n",
        "#---コード > 実行結果は「奇数」を表示---\n",
        "# val=5\n",
        "# if val % 2:\n",
        "#     result = '奇数'\n",
        "# else:\n",
        "#     result = '偶数'\n",
        "\n",
        "# print(result)\n",
        "#---------------------------------------\n",
        "\n",
        "#---回答--------------------------------\n",
        "val=5\n",
        "result = '奇数' if val % 2 else '偶数'\n",
        "print(result)\n",
        "#---------------------------------------"
      ],
      "metadata": {
        "colab": {
          "base_uri": "https://localhost:8080/"
        },
        "id": "vNF-ICnoE5vH",
        "outputId": "a2679abc-39eb-471e-848b-60c09e9874d3"
      },
      "execution_count": 9,
      "outputs": [
        {
          "output_type": "stream",
          "name": "stdout",
          "text": [
            "奇数\n"
          ]
        }
      ]
    },
    {
      "cell_type": "code",
      "source": [
        "#test_4問目 次のwhile文と同じ実行結果になるfor文を書いてください。\n",
        "\n",
        "#---コード > 実行結果は「55」を表示---\n",
        "# num = 1\n",
        "# sum = 0\n",
        "\n",
        "# while num <= 10:\n",
        "#   sum += num\n",
        "#   num += 1\n",
        "\n",
        "# print(sum)\n",
        "#---------------------------------------\n",
        "\n",
        "#---回答--------------------------------\n",
        "num = 1\n",
        "sum = 0\n",
        "for num in range(11):\n",
        "   sum += num\n",
        "   num += 1\n",
        "\n",
        "print(sum)\n",
        "#---------------------------------------"
      ],
      "metadata": {
        "colab": {
          "base_uri": "https://localhost:8080/"
        },
        "id": "FxJrmbUYHKG_",
        "outputId": "f6d604fb-a301-45c2-ced9-c9b1f45996ba"
      },
      "execution_count": 17,
      "outputs": [
        {
          "output_type": "stream",
          "name": "stdout",
          "text": [
            "55\n"
          ]
        }
      ]
    },
    {
      "cell_type": "code",
      "source": [
        "#test_5問目 次の要件を満たす実装を行ってください。\n",
        "\n",
        "#条件\n",
        "#繰り返し構文を使う\n",
        "#1から10までの1ずつインクリメント\n",
        "#3の倍数の場合に出力して改行\n",
        "#3の倍数でなければスキップ\n",
        "#期待される出力結果：3,6,9を改行して表示\n",
        "\n",
        "\n",
        "for i in range(1, 10):\n",
        "    if i % 3 != 0:\n",
        "       continue\n",
        "\n",
        "    print(i)\n"
      ],
      "metadata": {
        "colab": {
          "base_uri": "https://localhost:8080/"
        },
        "id": "hKY8jfcqL-YX",
        "outputId": "54d39efb-ae25-4a5e-b09a-71ca60780044"
      },
      "execution_count": 28,
      "outputs": [
        {
          "output_type": "stream",
          "name": "stdout",
          "text": [
            "3\n",
            "6\n",
            "9\n"
          ]
        }
      ]
    },
    {
      "cell_type": "code",
      "source": [
        "#test_6問目 次の要件を満たす実装を行ってください。\n",
        "\n",
        "#条件\n",
        "#繰り返し構文を使う\n",
        "#九九の表を表示する\n",
        "#1の段が一番左\n",
        "#段のインデントはそろえる\n",
        "\n",
        "for i in range(1, 10):\n",
        "    for j in range(1, 10):\n",
        "        ans=i * j\n",
        "        print(f'{ans:>4}', end=\"\")\n",
        "    print()\n",
        "\n",
        ""
      ],
      "metadata": {
        "colab": {
          "base_uri": "https://localhost:8080/"
        },
        "id": "jqcZzVjcavA3",
        "outputId": "9ed1a9da-1aad-4b27-f0e7-897698eedbac"
      },
      "execution_count": 32,
      "outputs": [
        {
          "output_type": "stream",
          "name": "stdout",
          "text": [
            "   1   2   3   4   5   6   7   8   9\n",
            "   2   4   6   8  10  12  14  16  18\n",
            "   3   6   9  12  15  18  21  24  27\n",
            "   4   8  12  16  20  24  28  32  36\n",
            "   5  10  15  20  25  30  35  40  45\n",
            "   6  12  18  24  30  36  42  48  54\n",
            "   7  14  21  28  35  42  49  56  63\n",
            "   8  16  24  32  40  48  56  64  72\n",
            "   9  18  27  36  45  54  63  72  81\n"
          ]
        }
      ]
    },
    {
      "cell_type": "code",
      "source": [
        "#test_7問目 複数の戻り値を戻す関数を作成してください。\n",
        "\n",
        "#条件\n",
        "#戻り値は文字列(abc)と数値(123)の2つ\n",
        "#戻り値を変数にを代入し、表示\n",
        "#期待される出力結果('abc', 123)\n",
        "\n",
        "def test():\n",
        "  return 'abc', 123\n",
        "\n",
        "result = test()\n",
        "print(result)\n"
      ],
      "metadata": {
        "colab": {
          "base_uri": "https://localhost:8080/"
        },
        "id": "pkVLCpyhbxNI",
        "outputId": "d6d9d979-00c7-4fcd-95f6-032d589473f5"
      },
      "execution_count": 7,
      "outputs": [
        {
          "output_type": "stream",
          "name": "stdout",
          "text": [
            "('abc', 123)\n"
          ]
        }
      ]
    }
  ]
}